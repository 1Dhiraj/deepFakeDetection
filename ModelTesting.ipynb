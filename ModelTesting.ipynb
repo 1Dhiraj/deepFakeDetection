{
 "cells": [
  {
   "cell_type": "code",
   "execution_count": null,
   "id": "e3c03c8c-0cfb-4d49-9585-37411e0f1b51",
   "metadata": {},
   "outputs": [],
   "source": [
    "\n"
   ]
  },
  {
   "cell_type": "code",
   "execution_count": 1,
   "id": "edf4a31f-f15f-4751-8cbf-d7b4049129c2",
   "metadata": {},
   "outputs": [],
   "source": [
    "import numpy as np                # For numerical operations\n",
    "import pandas as pd               # For handling structured data\n",
    "import os                         # For file and directory management\n",
    "import glob                       # For pattern matching in file paths\n",
    "from PIL import Image             # For image processing\n",
    "import cv2                        # For image and video processing\n",
    "import matplotlib.pyplot as plt   # For visualizing images and results\n",
    "import seaborn as sns             # For creating statistical plots\n",
    "import tensorflow as tf\n",
    "from tensorflow.keras.models import Sequential\n",
    "from tensorflow.keras.layers import Conv2D, MaxPooling2D, Flatten, Dense, Dropout\n",
    "from tensorflow.keras.optimizers import Adam\n",
    "from tensorflow.keras.preprocessing.image import ImageDataGenerator\n",
    "from sklearn.model_selection import train_test_split  # For splitting datasets\n",
    "from sklearn.preprocessing import LabelEncoder        # For encoding labels\n",
    "from sklearn.metrics import accuracy_score, precision_score, recall_score, f1_score\n",
    "from sklearn.metrics import confusion_matrix, classification_report\n",
    "from PIL import Image"
   ]
  },
  {
   "cell_type": "code",
   "execution_count": 2,
   "id": "83484a49-29ef-421d-bf47-e909759dbc02",
   "metadata": {},
   "outputs": [],
   "source": [
    "from tensorflow.keras.models import load_model  # Import this\n",
    "\n",
    "# Load the saved model\n",
    "model = load_model('my_model_new.h5')\n",
    "\n",
    "# Check the model summary\n",
    "# model.summary()\n"
   ]
  },
  {
   "cell_type": "code",
   "execution_count": 3,
   "id": "d0e71985-e6b0-4fc2-9fc0-43a55fa0fea5",
   "metadata": {},
   "outputs": [
    {
     "name": "stdout",
     "output_type": "stream",
     "text": [
      "Skipping corrupted image: .ipynb_checkpoints\n",
      "Loaded 11998 images successfully!\n"
     ]
    }
   ],
   "source": [
    "import os\n",
    "import numpy as np\n",
    "import tensorflow as tf\n",
    "from tensorflow.keras.preprocessing import image\n",
    "from sklearn.metrics import accuracy_score\n",
    "from PIL import Image, ImageFile\n",
    "\n",
    "# Prevent warnings and errors for large or truncated images\n",
    "Image.MAX_IMAGE_PIXELS = None\n",
    "ImageFile.LOAD_TRUNCATED_IMAGES = True  \n",
    "\n",
    "# Define paths\n",
    "real_path = \"dataset/test/real\"\n",
    "fake_path = \"dataset/test/fake\"\n",
    "\n",
    "# Function to load images and labels\n",
    "def load_images_from_folder(folder, label):\n",
    "    images = []\n",
    "    labels = []\n",
    "    \n",
    "    for filename in os.listdir(folder):\n",
    "        img_path = os.path.join(folder, filename)\n",
    "        try:\n",
    "            # Load image and resize\n",
    "            img = image.load_img(img_path, target_size=(224, 224))  \n",
    "            img_array = image.img_to_array(img) / 255.0  # Normalize\n",
    "            images.append(img_array)\n",
    "            labels.append(label)\n",
    "        except (OSError, IOError) as e:\n",
    "            print(f\"Skipping corrupted image: {filename}\")  # Log corrupted images\n",
    "            \n",
    "    return images, labels\n",
    "\n",
    "# Load real and fake images\n",
    "real_images, real_labels = load_images_from_folder(real_path, label=1)  # Real = 1\n",
    "fake_images, fake_labels = load_images_from_folder(fake_path, label=0)  # Fake = 0\n",
    "\n",
    "# Combine datasets\n",
    "X_test = np.array(real_images + fake_images)\n",
    "y_true = np.array(real_labels + fake_labels)\n",
    "\n",
    "print(f\"Loaded {len(y_true)} images successfully!\")\n"
   ]
  },
  {
   "cell_type": "code",
   "execution_count": null,
   "id": "0e5e0fe2-99a2-41ea-b8c1-0b969e7410eb",
   "metadata": {},
   "outputs": [],
   "source": []
  },
  {
   "cell_type": "code",
   "execution_count": 4,
   "id": "d2975fff-2969-4fc5-a3c9-c2f82d531372",
   "metadata": {},
   "outputs": [
    {
     "name": "stdout",
     "output_type": "stream",
     "text": [
      "375/375 [==============================] - 15s 32ms/step\n"
     ]
    }
   ],
   "source": [
    "# Predict using the model\n",
    "predictions = model.predict(X_test, batch_size=32)\n",
    "\n",
    "# Convert predictions to binary class (1 for real, 0 for fake)\n",
    "y_pred = (predictions > 0.5).astype(int).flatten() "
   ]
  },
  {
   "cell_type": "code",
   "execution_count": null,
   "id": "89c9e66f-0203-4e0f-a2a8-f4e05a230e56",
   "metadata": {},
   "outputs": [],
   "source": []
  },
  {
   "cell_type": "code",
   "execution_count": 5,
   "id": "35efca92-fde7-4485-8074-6e8409b7c99f",
   "metadata": {},
   "outputs": [
    {
     "name": "stdout",
     "output_type": "stream",
     "text": [
      "Model Accuracy: 82.76%\n"
     ]
    }
   ],
   "source": [
    "# Calculate accuracy\n",
    "accuracy = accuracy_score(y_true, y_pred) * 100\n",
    "print(f\"Model Accuracy: {accuracy:.2f}%\")\n"
   ]
  },
  {
   "cell_type": "code",
   "execution_count": 17,
   "id": "cae4bf12-4b13-4a20-b65c-20718a961ba3",
   "metadata": {},
   "outputs": [
    {
     "name": "stdout",
     "output_type": "stream",
     "text": [
      "1/1 [==============================] - 0s 15ms/step\n",
      "🟢 Real Image\n"
     ]
    }
   ],
   "source": [
    "from tensorflow.keras.preprocessing import image\n",
    "\n",
    "# Load the image and resize it to (224, 224)\n",
    "img_path = \"dataset/train/real/0201.jpg\"  # Your image path\n",
    "img = image.load_img(img_path, target_size=(224, 224))\n",
    "\n",
    "# Convert image to a NumPy array\n",
    "img_array = image.img_to_array(img)\n",
    "\n",
    "# Expand dimensions to match model input shape (batch format)\n",
    "img_array = np.expand_dims(img_array, axis=0)\n",
    "\n",
    "# Normalize pixel values (as done during training)\n",
    "img_array = img_array / 255.0  \n",
    "\n",
    "# Make a prediction\n",
    "prediction = model.predict(img_array)\n",
    "\n",
    "# Interpret the prediction\n",
    "if prediction[0][0] > 0.5:\n",
    "    print(\"🟢 Real Image\")\n",
    "else:\n",
    "    print(\"🔴 Fake Image\")\n"
   ]
  }
 ],
 "metadata": {
  "kernelspec": {
   "display_name": "Python (py310)",
   "language": "python",
   "name": "py310"
  },
  "language_info": {
   "codemirror_mode": {
    "name": "ipython",
    "version": 3
   },
   "file_extension": ".py",
   "mimetype": "text/x-python",
   "name": "python",
   "nbconvert_exporter": "python",
   "pygments_lexer": "ipython3",
   "version": "3.10.16"
  }
 },
 "nbformat": 4,
 "nbformat_minor": 5
}
